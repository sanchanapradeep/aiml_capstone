{
 "cells": [
  {
   "cell_type": "code",
   "execution_count": 1,
   "metadata": {
    "colab": {
     "base_uri": "https://localhost:8080/",
     "height": 79
    },
    "colab_type": "code",
    "id": "7fwf4f8QcBrt",
    "outputId": "622ca12c-5313-4855-b85f-bc07b23083d9"
   },
   "outputs": [
    {
     "name": "stderr",
     "output_type": "stream",
     "text": [
      "Using TensorFlow backend.\n"
     ]
    }
   ],
   "source": [
    "from matplotlib import pyplot as plt\n",
    "from sklearn.preprocessing import MinMaxScaler\n",
    "from keras.models import Sequential\n",
    "from keras.layers import GRU, Dense\n",
    "from keras.layers import LSTM\n",
    "from keras  import callbacks\n",
    "from keras import optimizers\n",
    "import pandas as pd \n",
    "import tensorflow as tf\n",
    "import numpy as np"
   ]
  },
  {
   "cell_type": "code",
   "execution_count": 2,
   "metadata": {
    "colab": {
     "base_uri": "https://localhost:8080/",
     "height": 196
    },
    "colab_type": "code",
    "id": "DYjBliRcHx6K",
    "outputId": "8cf18cf9-cb65-443c-df06-e9070ad9d005"
   },
   "outputs": [
    {
     "data": {
      "text/html": [
       "<div>\n",
       "<style scoped>\n",
       "    .dataframe tbody tr th:only-of-type {\n",
       "        vertical-align: middle;\n",
       "    }\n",
       "\n",
       "    .dataframe tbody tr th {\n",
       "        vertical-align: top;\n",
       "    }\n",
       "\n",
       "    .dataframe thead th {\n",
       "        text-align: right;\n",
       "    }\n",
       "</style>\n",
       "<table border=\"1\" class=\"dataframe\">\n",
       "  <thead>\n",
       "    <tr style=\"text-align: right;\">\n",
       "      <th></th>\n",
       "      <th>district</th>\n",
       "      <th>commodity</th>\n",
       "      <th>Arrival Date</th>\n",
       "      <th>variety</th>\n",
       "      <th>Min_price</th>\n",
       "    </tr>\n",
       "  </thead>\n",
       "  <tbody>\n",
       "    <tr>\n",
       "      <th>0</th>\n",
       "      <td>Mysore</td>\n",
       "      <td>Ragi (Finger Millet)</td>\n",
       "      <td>02-01-14</td>\n",
       "      <td>Fine</td>\n",
       "      <td>1600</td>\n",
       "    </tr>\n",
       "    <tr>\n",
       "      <th>1</th>\n",
       "      <td>Mysore</td>\n",
       "      <td>Ragi (Finger Millet)</td>\n",
       "      <td>03-01-14</td>\n",
       "      <td>Fine</td>\n",
       "      <td>2000</td>\n",
       "    </tr>\n",
       "    <tr>\n",
       "      <th>2</th>\n",
       "      <td>Mysore</td>\n",
       "      <td>Ragi (Finger Millet)</td>\n",
       "      <td>04-01-14</td>\n",
       "      <td>Fine</td>\n",
       "      <td>1800</td>\n",
       "    </tr>\n",
       "    <tr>\n",
       "      <th>3</th>\n",
       "      <td>Mysore</td>\n",
       "      <td>Ragi (Finger Millet)</td>\n",
       "      <td>07-01-14</td>\n",
       "      <td>Fine</td>\n",
       "      <td>2000</td>\n",
       "    </tr>\n",
       "    <tr>\n",
       "      <th>4</th>\n",
       "      <td>Mysore</td>\n",
       "      <td>Ragi (Finger Millet)</td>\n",
       "      <td>08-01-14</td>\n",
       "      <td>Fine</td>\n",
       "      <td>2100</td>\n",
       "    </tr>\n",
       "  </tbody>\n",
       "</table>\n",
       "</div>"
      ],
      "text/plain": [
       "  district             commodity Arrival Date variety  Min_price\n",
       "0   Mysore  Ragi (Finger Millet)     02-01-14    Fine       1600\n",
       "1   Mysore  Ragi (Finger Millet)     03-01-14    Fine       2000\n",
       "2   Mysore  Ragi (Finger Millet)     04-01-14    Fine       1800\n",
       "3   Mysore  Ragi (Finger Millet)     07-01-14    Fine       2000\n",
       "4   Mysore  Ragi (Finger Millet)     08-01-14    Fine       2100"
      ]
     },
     "execution_count": 2,
     "metadata": {},
     "output_type": "execute_result"
    }
   ],
   "source": [
    "df1 = pd.read_csv('/Users/pradeep/exp/capstone/data/Fine_2014_2019_Finger_millet_Min_Blore_Mysore.csv')\n",
    "df1.head()"
   ]
  },
  {
   "cell_type": "code",
   "execution_count": 3,
   "metadata": {},
   "outputs": [],
   "source": [
    "gp = pd.pivot_table(df1,values='Min_price',columns=['district','commodity'],index=['Arrival Date'])\n",
    "#gp = gp.sort_index(axis='columns', level='Arrival Date')\n",
    "#gp.head()"
   ]
  },
  {
   "cell_type": "code",
   "execution_count": 4,
   "metadata": {},
   "outputs": [
    {
     "data": {
      "text/html": [
       "<div>\n",
       "<style scoped>\n",
       "    .dataframe tbody tr th:only-of-type {\n",
       "        vertical-align: middle;\n",
       "    }\n",
       "\n",
       "    .dataframe tbody tr th {\n",
       "        vertical-align: top;\n",
       "    }\n",
       "\n",
       "    .dataframe thead th {\n",
       "        text-align: right;\n",
       "    }\n",
       "</style>\n",
       "<table border=\"1\" class=\"dataframe\">\n",
       "  <thead>\n",
       "    <tr style=\"text-align: right;\">\n",
       "      <th></th>\n",
       "      <th>('Bangalore', 'Ragi (Finger Millet)')</th>\n",
       "      <th>('Mysore', 'Ragi (Finger Millet)')</th>\n",
       "    </tr>\n",
       "    <tr>\n",
       "      <th>Arrival Date</th>\n",
       "      <th></th>\n",
       "      <th></th>\n",
       "    </tr>\n",
       "  </thead>\n",
       "  <tbody>\n",
       "    <tr>\n",
       "      <th>2014-01-03</th>\n",
       "      <td>1800.0</td>\n",
       "      <td>1800.0</td>\n",
       "    </tr>\n",
       "    <tr>\n",
       "      <th>2014-01-04</th>\n",
       "      <td>1800.0</td>\n",
       "      <td>1800.0</td>\n",
       "    </tr>\n",
       "    <tr>\n",
       "      <th>2014-01-05</th>\n",
       "      <td>1800.0</td>\n",
       "      <td>1800.0</td>\n",
       "    </tr>\n",
       "    <tr>\n",
       "      <th>2014-01-06</th>\n",
       "      <td>1800.0</td>\n",
       "      <td>1800.0</td>\n",
       "    </tr>\n",
       "    <tr>\n",
       "      <th>2014-01-07</th>\n",
       "      <td>1700.0</td>\n",
       "      <td>1700.0</td>\n",
       "    </tr>\n",
       "  </tbody>\n",
       "</table>\n",
       "</div>"
      ],
      "text/plain": [
       "              ('Bangalore', 'Ragi (Finger Millet)')  \\\n",
       "Arrival Date                                          \n",
       "2014-01-03                                   1800.0   \n",
       "2014-01-04                                   1800.0   \n",
       "2014-01-05                                   1800.0   \n",
       "2014-01-06                                   1800.0   \n",
       "2014-01-07                                   1700.0   \n",
       "\n",
       "              ('Mysore', 'Ragi (Finger Millet)')  \n",
       "Arrival Date                                      \n",
       "2014-01-03                                1800.0  \n",
       "2014-01-04                                1800.0  \n",
       "2014-01-05                                1800.0  \n",
       "2014-01-06                                1800.0  \n",
       "2014-01-07                                1700.0  "
      ]
     },
     "execution_count": 4,
     "metadata": {},
     "output_type": "execute_result"
    }
   ],
   "source": [
    "flattened = pd.DataFrame(gp.to_records())\n",
    "flattened['Arrival Date'] = pd.to_datetime(flattened['Arrival Date'])\n",
    "flattened = flattened.sort_values(by=['Arrival Date'])\n",
    "df = flattened.reset_index()\n",
    "del df['index']\n",
    "\n",
    "df = df.set_index('Arrival Date').asfreq('D')\n",
    "df = df.fillna(method='ffill')\n",
    "df.head()"
   ]
  },
  {
   "cell_type": "code",
   "execution_count": 5,
   "metadata": {
    "colab": {},
    "colab_type": "code",
    "id": "ZO-sNuK7HyA9"
   },
   "outputs": [],
   "source": [
    "df.to_csv('/Users/pradeep/exp/capstone/data/Finger_millet_2006_2019_Complete_after_PreProcessing.csv', encoding='utf-8')"
   ]
  },
  {
   "cell_type": "code",
   "execution_count": 6,
   "metadata": {
    "colab": {
     "base_uri": "https://localhost:8080/",
     "height": 196
    },
    "colab_type": "code",
    "id": "2-F5MyHdBpBu",
    "outputId": "968e6551-4b55-4469-bf03-350c776caf37"
   },
   "outputs": [],
   "source": [
    "df = pd.read_csv('/Users/pradeep/exp/capstone/data/Finger_millet_2006_2019_Complete_after_PreProcessing.csv')\n"
   ]
  },
  {
   "cell_type": "code",
   "execution_count": 7,
   "metadata": {
    "colab": {
     "base_uri": "https://localhost:8080/",
     "height": 296
    },
    "colab_type": "code",
    "id": "hmbpcUnIB0Wi",
    "outputId": "3c762116-8995-4d31-a700-f5a5111d112b"
   },
   "outputs": [
    {
     "data": {
      "text/plain": [
       "<matplotlib.axes._subplots.AxesSubplot at 0x1a2c99eeb8>"
      ]
     },
     "execution_count": 7,
     "metadata": {},
     "output_type": "execute_result"
    },
    {
     "data": {
      "image/png": "[encoded data removed]",
      "text/plain": [
       "<Figure size 432x288 with 1 Axes>"
      ]
     },
     "metadata": {
      "needs_background": "light"
     },
     "output_type": "display_data"
    }
   ],
   "source": [
    "df.plot(x='Arrival Date')"
   ]
  },
  {
   "cell_type": "code",
   "execution_count": 8,
   "metadata": {
    "colab": {
     "base_uri": "https://localhost:8080/",
     "height": 286
    },
    "colab_type": "code",
    "id": "ZBRGVN4KB6ji",
    "outputId": "8b012e7c-21e7-4167-d96e-af0939daa9bd"
   },
   "outputs": [
    {
     "data": {
      "text/html": [
       "<div>\n",
       "<style scoped>\n",
       "    .dataframe tbody tr th:only-of-type {\n",
       "        vertical-align: middle;\n",
       "    }\n",
       "\n",
       "    .dataframe tbody tr th {\n",
       "        vertical-align: top;\n",
       "    }\n",
       "\n",
       "    .dataframe thead th {\n",
       "        text-align: right;\n",
       "    }\n",
       "</style>\n",
       "<table border=\"1\" class=\"dataframe\">\n",
       "  <thead>\n",
       "    <tr style=\"text-align: right;\">\n",
       "      <th></th>\n",
       "      <th>Arrival Date</th>\n",
       "      <th>('Bangalore', 'Ragi (Finger Millet)')</th>\n",
       "      <th>('Mysore', 'Ragi (Finger Millet)')</th>\n",
       "    </tr>\n",
       "  </thead>\n",
       "  <tbody>\n",
       "    <tr>\n",
       "      <th>count</th>\n",
       "      <td>2.044000e+03</td>\n",
       "      <td>2044.00000</td>\n",
       "      <td>2044.00000</td>\n",
       "    </tr>\n",
       "    <tr>\n",
       "      <th>mean</th>\n",
       "      <td>1.476965e+18</td>\n",
       "      <td>2406.38454</td>\n",
       "      <td>2406.38454</td>\n",
       "    </tr>\n",
       "    <tr>\n",
       "      <th>std</th>\n",
       "      <td>5.099296e+16</td>\n",
       "      <td>566.48057</td>\n",
       "      <td>566.48057</td>\n",
       "    </tr>\n",
       "    <tr>\n",
       "      <th>min</th>\n",
       "      <td>1.388707e+18</td>\n",
       "      <td>1400.00000</td>\n",
       "      <td>1400.00000</td>\n",
       "    </tr>\n",
       "    <tr>\n",
       "      <th>25%</th>\n",
       "      <td>1.432836e+18</td>\n",
       "      <td>1900.00000</td>\n",
       "      <td>1900.00000</td>\n",
       "    </tr>\n",
       "    <tr>\n",
       "      <th>50%</th>\n",
       "      <td>1.476965e+18</td>\n",
       "      <td>2200.00000</td>\n",
       "      <td>2200.00000</td>\n",
       "    </tr>\n",
       "    <tr>\n",
       "      <th>75%</th>\n",
       "      <td>1.521094e+18</td>\n",
       "      <td>3000.00000</td>\n",
       "      <td>3000.00000</td>\n",
       "    </tr>\n",
       "    <tr>\n",
       "      <th>max</th>\n",
       "      <td>1.565222e+18</td>\n",
       "      <td>3800.00000</td>\n",
       "      <td>3800.00000</td>\n",
       "    </tr>\n",
       "  </tbody>\n",
       "</table>\n",
       "</div>"
      ],
      "text/plain": [
       "       Arrival Date  ('Bangalore', 'Ragi (Finger Millet)')  \\\n",
       "count  2.044000e+03                             2044.00000   \n",
       "mean   1.476965e+18                             2406.38454   \n",
       "std    5.099296e+16                              566.48057   \n",
       "min    1.388707e+18                             1400.00000   \n",
       "25%    1.432836e+18                             1900.00000   \n",
       "50%    1.476965e+18                             2200.00000   \n",
       "75%    1.521094e+18                             3000.00000   \n",
       "max    1.565222e+18                             3800.00000   \n",
       "\n",
       "       ('Mysore', 'Ragi (Finger Millet)')  \n",
       "count                          2044.00000  \n",
       "mean                           2406.38454  \n",
       "std                             566.48057  \n",
       "min                            1400.00000  \n",
       "25%                            1900.00000  \n",
       "50%                            2200.00000  \n",
       "75%                            3000.00000  \n",
       "max                            3800.00000  "
      ]
     },
     "execution_count": 8,
     "metadata": {},
     "output_type": "execute_result"
    }
   ],
   "source": [
    "df['Arrival Date'] = pd.to_datetime(df['Arrival Date']).astype('int')\n",
    "df.describe()"
   ]
  },
  {
   "cell_type": "code",
   "execution_count": 9,
   "metadata": {},
   "outputs": [
    {
     "data": {
      "text/plain": [
       "array([[1800., 1800.],\n",
       "       [1800., 1800.],\n",
       "       [1800., 1800.],\n",
       "       ...,\n",
       "       [3100., 3100.],\n",
       "       [3100., 3100.],\n",
       "       [3100., 3100.]])"
      ]
     },
     "execution_count": 9,
     "metadata": {},
     "output_type": "execute_result"
    }
   ],
   "source": [
    "training_set = df.iloc[:,[1,2]].values\n",
    "training_set"
   ]
  },
  {
   "cell_type": "code",
   "execution_count": 10,
   "metadata": {
    "colab": {},
    "colab_type": "code",
    "id": "8MsQ04tOEMA6"
   },
   "outputs": [],
   "source": [
    "scaler = MinMaxScaler(feature_range=(0, 1))\n",
    "scaled = scaler.fit_transform(training_set)"
   ]
  },
  {
   "cell_type": "code",
   "execution_count": 11,
   "metadata": {
    "colab": {
     "base_uri": "https://localhost:8080/",
     "height": 50
    },
    "colab_type": "code",
    "id": "Dldn9_wxCAiO",
    "outputId": "a1a5df35-b4c3-4121-fb28-a3c264a23643"
   },
   "outputs": [
    {
     "name": "stdout",
     "output_type": "stream",
     "text": [
      "train: 1533\n",
      "test: 511\n"
     ]
    }
   ],
   "source": [
    "train_size = int(len(scaled) * 0.75)\n",
    "test_size = len(scaled - train_size)\n",
    "train, test = scaled[0:train_size, :], scaled[train_size: len(scaled), :]\n",
    "print('train: {}\\ntest: {}'.format(len(train), len(test)))"
   ]
  },
  {
   "cell_type": "code",
   "execution_count": 12,
   "metadata": {},
   "outputs": [
    {
     "name": "stdout",
     "output_type": "stream",
     "text": [
      "(1533, 2)\n",
      "(511, 2)\n"
     ]
    }
   ],
   "source": [
    "print(train.shape)\n",
    "print(test.shape)"
   ]
  },
  {
   "cell_type": "code",
   "execution_count": 13,
   "metadata": {},
   "outputs": [
    {
     "data": {
      "text/plain": [
       "array([[0.16666667, 0.16666667],\n",
       "       [0.16666667, 0.16666667],\n",
       "       [0.16666667, 0.16666667],\n",
       "       ...,\n",
       "       [0.375     , 0.375     ],\n",
       "       [0.375     , 0.375     ],\n",
       "       [0.375     , 0.375     ]])"
      ]
     },
     "execution_count": 13,
     "metadata": {},
     "output_type": "execute_result"
    }
   ],
   "source": [
    "train"
   ]
  },
  {
   "cell_type": "code",
   "execution_count": 14,
   "metadata": {
    "colab": {},
    "colab_type": "code",
    "id": "O0U40x7MCUbX"
   },
   "outputs": [],
   "source": [
    "def create_dataset(dataset, look_back=32):\n",
    "    print(len(dataset), look_back)\n",
    "    dataX, dataY = [], []\n",
    "    for i in range(len(dataset)-look_back-1):\n",
    "        a = dataset[i:(i+look_back)]\n",
    "        b = dataset[i + look_back]\n",
    "        dataX.append(a)\n",
    "        dataY.append(b)\n",
    "    return np.array(dataX), np.array(dataY)"
   ]
  },
  {
   "cell_type": "code",
   "execution_count": 15,
   "metadata": {
    "colab": {
     "base_uri": "https://localhost:8080/",
     "height": 1000
    },
    "colab_type": "code",
    "id": "O6kovY34CWSr",
    "outputId": "7f2910e4-d341-4feb-fc7e-f1f405c55f3d"
   },
   "outputs": [
    {
     "name": "stdout",
     "output_type": "stream",
     "text": [
      "1533 16\n",
      "511 16\n"
     ]
    }
   ],
   "source": [
    "look_back = 16\n",
    "#32\n",
    "X_train, y_train = create_dataset(train, look_back)\n",
    "X_test, y_test = create_dataset(test, look_back)"
   ]
  },
  {
   "cell_type": "code",
   "execution_count": 16,
   "metadata": {},
   "outputs": [
    {
     "name": "stdout",
     "output_type": "stream",
     "text": [
      "(1516, 16, 2)\n",
      "(494, 16, 2)\n",
      "(1516, 2)\n",
      "(494, 2)\n"
     ]
    }
   ],
   "source": [
    "print(X_train.shape)\n",
    "print(X_test.shape)\n",
    "print(y_train.shape)\n",
    "print(y_test.shape)"
   ]
  },
  {
   "cell_type": "code",
   "execution_count": 17,
   "metadata": {
    "colab": {
     "base_uri": "https://localhost:8080/",
     "height": 50
    },
    "colab_type": "code",
    "id": "5vKMtDIMCX50",
    "outputId": "0d376e01-4007-4662-ebf4-40374411e4e2"
   },
   "outputs": [
    {
     "name": "stdout",
     "output_type": "stream",
     "text": [
      "(1516, 16, 2)\n",
      "(494, 16, 2)\n"
     ]
    }
   ],
   "source": [
    "#X_train = np.reshape(X_train, (X_train.shape[0], X_train.shape[1],X_train.shape[2] ))\n",
    "#X_test = np.reshape(X_test, (X_test.shape[0], X_test.shape[1], X_test.shape[2]))\n",
    "print(X_train.shape)\n",
    "print(X_test.shape)"
   ]
  },
  {
   "cell_type": "code",
   "execution_count": 24,
   "metadata": {
    "colab": {
     "base_uri": "https://localhost:8080/",
     "height": 1000
    },
    "colab_type": "code",
    "id": "TV9MXypREe7A",
    "outputId": "d573a53e-25ec-4778-8f00-692b7fb3b3de"
   },
   "outputs": [
    {
     "name": "stdout",
     "output_type": "stream",
     "text": [
      "_________________________________________________________________\n",
      "Layer (type)                 Output Shape              Param #   \n",
      "=================================================================\n",
      "lstm_2 (LSTM)                (2, 400)                  644800    \n",
      "_________________________________________________________________\n",
      "dense_2 (Dense)              (2, 2)                    802       \n",
      "=================================================================\n",
      "Total params: 645,602\n",
      "Trainable params: 645,602\n",
      "Non-trainable params: 0\n",
      "_________________________________________________________________\n"
     ]
    }
   ],
   "source": [
    "batch_size = 2\n",
    "model = Sequential()\n",
    "model.add(LSTM(units=400, batch_input_shape=(batch_size, look_back, 2), stateful=True))\n",
    "#model.add(LSTM(50, return_sequences=True))  \n",
    "#model.add(LSTM(units=100, batch_input_shape=(batch_size, look_back, 1), stateful=True))\n",
    "\n",
    "model.add(Dense(2))\n",
    "model.compile(loss='mean_squared_error', optimizer='adam')\n",
    "model.summary()"
   ]
  },
  {
   "cell_type": "code",
   "execution_count": 25,
   "metadata": {},
   "outputs": [
    {
     "name": "stdout",
     "output_type": "stream",
     "text": [
      "Epoch 1/150\n",
      " - 12s - loss: 0.0040\n",
      "Epoch 2/150\n",
      " - 12s - loss: 0.0018\n",
      "Epoch 3/150\n",
      " - 12s - loss: 0.0014\n",
      "Epoch 4/150\n",
      " - 12s - loss: 0.0014\n",
      "Epoch 5/150\n",
      " - 12s - loss: 0.0013\n",
      "Epoch 6/150\n",
      " - 12s - loss: 0.0013\n",
      "Epoch 7/150\n",
      " - 12s - loss: 0.0013\n",
      "Epoch 8/150\n",
      " - 12s - loss: 0.0013\n",
      "Epoch 9/150\n",
      " - 12s - loss: 0.0012\n",
      "Epoch 10/150\n",
      " - 12s - loss: 0.0013\n",
      "Epoch 11/150\n",
      " - 12s - loss: 0.0012\n",
      "Epoch 12/150\n",
      " - 12s - loss: 0.0013\n",
      "Epoch 13/150\n",
      " - 12s - loss: 0.0012\n",
      "Epoch 14/150\n",
      " - 12s - loss: 0.0012\n",
      "Epoch 15/150\n",
      " - 12s - loss: 0.0012\n",
      "Epoch 16/150\n",
      " - 13s - loss: 0.0012\n",
      "Epoch 17/150\n",
      " - 12s - loss: 0.0012\n",
      "Epoch 18/150\n",
      " - 12s - loss: 0.0012\n",
      "Epoch 19/150\n",
      " - 12s - loss: 0.0011\n",
      "Epoch 20/150\n",
      " - 14s - loss: 0.0012\n",
      "Epoch 21/150\n",
      " - 13s - loss: 0.0011\n",
      "Epoch 22/150\n",
      " - 13s - loss: 0.0011\n",
      "Epoch 23/150\n",
      " - 15s - loss: 0.0011\n",
      "Epoch 24/150\n",
      " - 13s - loss: 0.0011\n",
      "Epoch 25/150\n",
      " - 13s - loss: 0.0011\n",
      "Epoch 26/150\n",
      " - 13s - loss: 0.0011\n",
      "Epoch 27/150\n",
      " - 13s - loss: 0.0011\n",
      "Epoch 28/150\n",
      " - 13s - loss: 0.0011\n",
      "Epoch 29/150\n",
      " - 14s - loss: 0.0011\n",
      "Epoch 30/150\n",
      " - 13s - loss: 0.0011\n",
      "Epoch 31/150\n",
      " - 14s - loss: 0.0011\n",
      "Epoch 32/150\n",
      " - 14s - loss: 0.0011\n",
      "Epoch 33/150\n",
      " - 13s - loss: 0.0011\n",
      "Epoch 34/150\n",
      " - 13s - loss: 0.0011\n",
      "Epoch 35/150\n",
      " - 13s - loss: 0.0011\n",
      "Epoch 36/150\n",
      " - 13s - loss: 0.0010\n",
      "Epoch 37/150\n",
      " - 13s - loss: 0.0011\n",
      "Epoch 38/150\n",
      " - 13s - loss: 0.0011\n",
      "Epoch 39/150\n",
      " - 13s - loss: 0.0010\n",
      "Epoch 40/150\n",
      " - 13s - loss: 0.0010\n",
      "Epoch 41/150\n",
      " - 13s - loss: 0.0011\n",
      "Epoch 42/150\n",
      " - 13s - loss: 0.0010\n",
      "Epoch 43/150\n",
      " - 13s - loss: 0.0011\n",
      "Epoch 44/150\n",
      " - 13s - loss: 0.0010\n",
      "Epoch 45/150\n",
      " - 13s - loss: 0.0010\n",
      "Epoch 46/150\n",
      " - 13s - loss: 0.0010\n",
      "Epoch 47/150\n",
      " - 13s - loss: 0.0010\n",
      "Epoch 48/150\n",
      " - 14s - loss: 9.9525e-04\n",
      "Epoch 49/150\n",
      " - 13s - loss: 9.8547e-04\n",
      "Epoch 50/150\n",
      " - 13s - loss: 0.0010\n",
      "Epoch 51/150\n",
      " - 13s - loss: 9.5188e-04\n",
      "Epoch 52/150\n",
      " - 14s - loss: 9.6365e-04\n",
      "Epoch 53/150\n",
      " - 14s - loss: 9.7365e-04\n",
      "Epoch 54/150\n",
      " - 14s - loss: 9.6559e-04\n",
      "Epoch 55/150\n",
      " - 13s - loss: 9.7155e-04\n",
      "Epoch 56/150\n",
      " - 13s - loss: 9.5365e-04\n",
      "Epoch 57/150\n",
      " - 13s - loss: 9.6389e-04\n",
      "Epoch 58/150\n",
      " - 13s - loss: 9.5202e-04\n",
      "Epoch 59/150\n",
      " - 13s - loss: 9.3078e-04\n",
      "Epoch 60/150\n",
      " - 13s - loss: 9.0482e-04\n",
      "Epoch 61/150\n",
      " - 13s - loss: 9.0418e-04\n",
      "Epoch 62/150\n",
      " - 13s - loss: 9.0808e-04\n",
      "Epoch 63/150\n",
      " - 13s - loss: 8.9064e-04\n",
      "Epoch 64/150\n",
      " - 13s - loss: 8.9361e-04\n",
      "Epoch 65/150\n",
      " - 13s - loss: 9.1558e-04\n",
      "Epoch 66/150\n",
      " - 13s - loss: 8.6294e-04\n",
      "Epoch 67/150\n",
      " - 13s - loss: 9.4055e-04\n",
      "Epoch 68/150\n",
      " - 14s - loss: 8.7745e-04\n",
      "Epoch 69/150\n",
      " - 13s - loss: 8.7886e-04\n",
      "Epoch 70/150\n",
      " - 13s - loss: 8.7916e-04\n",
      "Epoch 71/150\n",
      " - 13s - loss: 8.4332e-04\n",
      "Epoch 72/150\n",
      " - 13s - loss: 8.7173e-04\n",
      "Epoch 73/150\n",
      " - 13s - loss: 8.2390e-04\n",
      "Epoch 74/150\n",
      " - 13s - loss: 8.4296e-04\n",
      "Epoch 75/150\n",
      " - 14s - loss: 8.2014e-04\n",
      "Epoch 76/150\n",
      " - 14s - loss: 8.9916e-04\n",
      "Epoch 77/150\n",
      " - 13s - loss: 8.3012e-04\n",
      "Epoch 78/150\n",
      " - 13s - loss: 8.6402e-04\n",
      "Epoch 79/150\n",
      " - 13s - loss: 8.6005e-04\n",
      "Epoch 80/150\n",
      " - 13s - loss: 8.1585e-04\n",
      "Epoch 81/150\n",
      " - 13s - loss: 8.7934e-04\n",
      "Epoch 82/150\n",
      " - 14s - loss: 8.2417e-04\n",
      "Epoch 83/150\n",
      " - 14s - loss: 8.5883e-04\n",
      "Epoch 84/150\n",
      " - 13s - loss: 8.0110e-04\n",
      "Epoch 85/150\n",
      " - 13s - loss: 8.1888e-04\n",
      "Epoch 86/150\n",
      " - 13s - loss: 8.3726e-04\n",
      "Epoch 87/150\n",
      " - 13s - loss: 8.1470e-04\n",
      "Epoch 88/150\n",
      " - 13s - loss: 8.4637e-04\n",
      "Epoch 89/150\n",
      " - 13s - loss: 7.6693e-04\n",
      "Epoch 90/150\n",
      " - 15s - loss: 8.3775e-04\n",
      "Epoch 91/150\n",
      " - 13s - loss: 7.6857e-04\n",
      "Epoch 92/150\n",
      " - 13s - loss: 8.0292e-04\n",
      "Epoch 93/150\n",
      " - 14s - loss: 7.7074e-04\n",
      "Epoch 94/150\n",
      " - 14s - loss: 7.8509e-04\n",
      "Epoch 95/150\n",
      " - 13s - loss: 7.7883e-04\n",
      "Epoch 96/150\n",
      " - 14s - loss: 7.7457e-04\n",
      "Epoch 97/150\n",
      " - 13s - loss: 7.2324e-04\n",
      "Epoch 98/150\n",
      " - 13s - loss: 7.8061e-04\n",
      "Epoch 99/150\n",
      " - 14s - loss: 8.2603e-04\n",
      "Epoch 100/150\n",
      " - 14s - loss: 7.4531e-04\n",
      "Epoch 101/150\n",
      " - 15s - loss: 7.4249e-04\n",
      "Epoch 102/150\n",
      " - 13s - loss: 7.7827e-04\n",
      "Epoch 103/150\n",
      " - 13s - loss: 7.3085e-04\n",
      "Epoch 104/150\n",
      " - 14s - loss: 7.5874e-04\n",
      "Epoch 105/150\n",
      " - 14s - loss: 7.5649e-04\n",
      "Epoch 106/150\n",
      " - 13s - loss: 7.2515e-04\n",
      "Epoch 107/150\n",
      " - 14s - loss: 7.5431e-04\n",
      "Epoch 108/150\n",
      " - 14s - loss: 7.5208e-04\n",
      "Epoch 109/150\n",
      " - 14s - loss: 7.7347e-04\n",
      "Epoch 110/150\n",
      " - 13s - loss: 7.0549e-04\n",
      "Epoch 111/150\n",
      " - 14s - loss: 7.9879e-04\n",
      "Epoch 112/150\n",
      " - 13s - loss: 6.9745e-04\n",
      "Epoch 113/150\n",
      " - 13s - loss: 7.4656e-04\n",
      "Epoch 114/150\n",
      " - 13s - loss: 7.1592e-04\n",
      "Epoch 115/150\n",
      " - 13s - loss: 7.0011e-04\n",
      "Epoch 116/150\n",
      " - 13s - loss: 9.0021e-04\n",
      "Epoch 117/150\n",
      " - 13s - loss: 7.0268e-04\n",
      "Epoch 118/150\n",
      " - 13s - loss: 6.4585e-04\n",
      "Epoch 119/150\n",
      " - 13s - loss: 6.8186e-04\n",
      "Epoch 120/150\n",
      " - 13s - loss: 6.5531e-04\n",
      "Epoch 121/150\n",
      " - 14s - loss: 6.2312e-04\n",
      "Epoch 122/150\n",
      " - 14s - loss: 9.3791e-04\n",
      "Epoch 123/150\n",
      " - 15s - loss: 0.0013\n",
      "Epoch 124/150\n",
      " - 15s - loss: 7.8555e-04\n",
      "Epoch 125/150\n",
      " - 15s - loss: 6.9858e-04\n",
      "Epoch 126/150\n",
      " - 15s - loss: 6.7852e-04\n",
      "Epoch 127/150\n",
      " - 15s - loss: 6.5327e-04\n",
      "Epoch 128/150\n",
      " - 15s - loss: 6.3416e-04\n",
      "Epoch 129/150\n",
      " - 15s - loss: 6.9611e-04\n",
      "Epoch 130/150\n",
      " - 15s - loss: 6.3300e-04\n",
      "Epoch 131/150\n",
      " - 15s - loss: 6.5900e-04\n",
      "Epoch 132/150\n",
      " - 15s - loss: 6.8003e-04\n",
      "Epoch 133/150\n",
      " - 15s - loss: 7.1359e-04\n",
      "Epoch 134/150\n",
      " - 15s - loss: 7.0126e-04\n",
      "Epoch 135/150\n",
      " - 15s - loss: 6.8975e-04\n",
      "Epoch 136/150\n",
      " - 15s - loss: 7.1073e-04\n",
      "Epoch 137/150\n",
      " - 15s - loss: 6.9946e-04\n",
      "Epoch 138/150\n",
      " - 15s - loss: 6.7813e-04\n",
      "Epoch 139/150\n",
      " - 15s - loss: 6.3354e-04\n",
      "Epoch 140/150\n",
      " - 15s - loss: 6.3377e-04\n",
      "Epoch 141/150\n",
      " - 15s - loss: 6.7792e-04\n",
      "Epoch 142/150\n",
      " - 15s - loss: 7.1026e-04\n",
      "Epoch 143/150\n",
      " - 15s - loss: 6.8032e-04\n",
      "Epoch 144/150\n",
      " - 15s - loss: 6.7797e-04\n",
      "Epoch 145/150\n",
      " - 15s - loss: 6.7896e-04\n",
      "Epoch 146/150\n",
      " - 15s - loss: 6.5686e-04\n",
      "Epoch 147/150\n",
      " - 15s - loss: 0.0012\n",
      "Epoch 148/150\n",
      " - 14s - loss: 7.2419e-04\n",
      "Epoch 149/150\n",
      " - 14s - loss: 6.5863e-04\n",
      "Epoch 150/150\n",
      " - 14s - loss: 6.0999e-04\n"
     ]
    },
    {
     "data": {
      "text/plain": [
       "<keras.callbacks.History at 0x1a32e5fe10>"
      ]
     },
     "execution_count": 25,
     "metadata": {},
     "output_type": "execute_result"
    }
   ],
   "source": [
    "model.fit(X_train, y_train, epochs=150, batch_size=batch_size, verbose=2, shuffle=True)"
   ]
  },
  {
   "cell_type": "code",
   "execution_count": 26,
   "metadata": {},
   "outputs": [],
   "source": [
    "X_test = np.array(X_test)\n",
    "X_test = np.reshape(X_test, (X_test.shape[0], X_test.shape[1], 2))"
   ]
  },
  {
   "cell_type": "code",
   "execution_count": 27,
   "metadata": {},
   "outputs": [],
   "source": [
    "#X_test"
   ]
  },
  {
   "cell_type": "code",
   "execution_count": 28,
   "metadata": {},
   "outputs": [],
   "source": [
    "#testPredict = model.predict(X_test, batch_size=batch_size)\n",
    "#print(testPredict.shape)\n",
    "#testPredict\n",
    "#testPredict = scaler.inverse_transform(testPredict)\n"
   ]
  },
  {
   "cell_type": "code",
   "execution_count": 29,
   "metadata": {
    "colab": {
     "base_uri": "https://localhost:8080/",
     "height": 50
    },
    "colab_type": "code",
    "id": "_8KQaHsjEjf2",
    "outputId": "96f571d5-d588-4bbe-ba3f-2587e67c25cb"
   },
   "outputs": [
    {
     "name": "stdout",
     "output_type": "stream",
     "text": [
      "Train Score column 0: 13.07 RMSE\n",
      "Test Score column 0: 493.19 RMSE\n",
      "Train Score column 1: 49.16 RMSE\n",
      "Test Score column 1: 22.26 RMSE\n"
     ]
    }
   ],
   "source": [
    "import math\n",
    "from sklearn.metrics import mean_squared_error\n",
    "\n",
    "trainPredict = model.predict(X_train, batch_size=batch_size)\n",
    "model.reset_states()\n",
    "\n",
    "testPredict = model.predict(X_test, batch_size=batch_size)\n",
    "# invert predictions\n",
    "trainPredict = scaler.inverse_transform(trainPredict)\n",
    "y_train = scaler.inverse_transform(y_train)\n",
    "testPredict = scaler.inverse_transform(testPredict)\n",
    "y_test = scaler.inverse_transform(y_test)\n",
    "# calculate root mean squared error\n",
    "trainScore = math.sqrt(mean_squared_error(y_train[0], trainPredict[0]))\n",
    "print('Train Score column 0: %.2f RMSE' % (trainScore))\n",
    "testScore = math.sqrt(mean_squared_error(y_test[0], testPredict[0]))\n",
    "print('Test Score column 0: %.2f RMSE' % (testScore))\n",
    "trainScore = math.sqrt(mean_squared_error(y_train[1], trainPredict[1]))\n",
    "print('Train Score column 1: %.2f RMSE' % (trainScore))\n",
    "testScore = math.sqrt(mean_squared_error(y_test[1], testPredict[1]))\n",
    "print('Test Score column 1: %.2f RMSE' % (testScore))"
   ]
  },
  {
   "cell_type": "code",
   "execution_count": 30,
   "metadata": {
    "colab": {
     "base_uri": "https://localhost:8080/",
     "height": 592
    },
    "colab_type": "code",
    "id": "yJ_4k-E9FOyO",
    "outputId": "009889e3-7cbb-494b-85b2-286076e47c89"
   },
   "outputs": [
    {
     "data": {
      "image/png": "[encoded data removed]",
      "text/plain": [
       "<Figure size 1440x720 with 1 Axes>"
      ]
     },
     "metadata": {
      "needs_background": "light"
     },
     "output_type": "display_data"
    }
   ],
   "source": [
    "trainPredictPlot = np.empty_like(scaled)\n",
    "trainPredictPlot[:, :] = np.nan\n",
    "trainPredictPlot[look_back:len(trainPredict)+look_back] = trainPredict\n",
    "# shift test predictions for plotting\n",
    "testPredictPlot = np.empty_like(scaled)\n",
    "testPredictPlot[:, :] = np.nan\n",
    "testPredictPlot[len(trainPredict)+(look_back*2)+1:len(scaled)-1, :] = testPredict\n",
    "# plot baseline and predictions\n",
    "plt.figure(figsize=(20,10))\n",
    "plt.plot(scaler.inverse_transform(scaled),label = 'Original Price')\n",
    "plt.plot(trainPredictPlot, color = 'red', label = 'Trained model Price')\n",
    "plt.plot(testPredictPlot, color = 'blue', label = 'Predicted Price')\n",
    "plt.xlabel('Time')\n",
    "plt.ylabel('Price in INR')\n",
    "plt.legend()\n",
    "#plt.plot(x='Arrival Date')\n",
    "plt.show()"
   ]
  },
  {
   "cell_type": "code",
   "execution_count": null,
   "metadata": {},
   "outputs": [],
   "source": []
  }
 ],
 "metadata": {
  "colab": {
   "name": "LSTM_2006_2019_fine_finger_millet_Min.ipynb",
   "provenance": []
  },
  "kernelspec": {
   "display_name": "Python 3",
   "language": "python",
   "name": "python3"
  },
  "language_info": {
   "codemirror_mode": {
    "name": "ipython",
    "version": 3
   },
   "file_extension": ".py",
   "mimetype": "text/x-python",
   "name": "python",
   "nbconvert_exporter": "python",
   "pygments_lexer": "ipython3",
   "version": "3.7.3"
  }
 },
 "nbformat": 4,
 "nbformat_minor": 1
}
